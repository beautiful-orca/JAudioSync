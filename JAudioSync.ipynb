{
 "cells": [
  {
   "cell_type": "code",
   "execution_count": null,
   "id": "4fe782fb-578a-40be-bd50-d33fe3487d81",
   "metadata": {
    "tags": []
   },
   "outputs": [],
   "source": [
    "# m3u8 playlist approach\n",
    "# Place music fies in \"./Music/\"\n",
    "# Using VLC to create a playlist of songs in \"./Music\"\n",
    "# Save Playlist as \"./Music/Playlist.m3u8\""
   ]
  },
  {
   "cell_type": "code",
   "execution_count": null,
   "id": "f6154d87-2c5b-4166-913c-1b2b64a9a98f",
   "metadata": {
    "tags": []
   },
   "outputs": [],
   "source": [
    "# install additional python modules:\n",
    "#!pip install pygame\n",
    "#!pip install pydub\n",
    "#!pip install apscheduler"
   ]
  },
  {
   "cell_type": "code",
   "execution_count": 1,
   "id": "7f5d0973-cb46-4a79-a21f-886c9f572caf",
   "metadata": {
    "tags": []
   },
   "outputs": [],
   "source": [
    "# Future Ideas\n",
    "\n",
    "# Choose start time from calling script: python JAudioSync.py \"18:55:00\"\n",
    "# Stopping music playback inbetween\n",
    "# Resume playback from any number of track in \"playlist\"\n",
    "\n",
    "# Common interace: distribute commands to all clients at the same time\n",
    "   # Alternatively copy prewritten commands (for each client IP) to Termux (needs ssh key auth), e.g ssh 192.10.10.2 python JAudioSync.py \"18:55:00\"\n",
    "\n"
   ]
  },
  {
   "cell_type": "code",
   "execution_count": null,
   "id": "eb1133b0-5e54-43d3-bd09-eb5f17d909d6",
   "metadata": {
    "tags": []
   },
   "outputs": [],
   "source": [
    "import pygame.mixer\n",
    "import os\n",
    "from urllib.parse import unquote\n",
    "from datetime import timedelta, datetime\n",
    "from pydub import AudioSegment\n",
    "from math import ceil\n",
    "from apscheduler.schedulers.blocking import BlockingScheduler\n",
    "\n",
    "# Read .m3u8 playlist file and extract file path to \"playlist\"\n",
    "def load_playlist(playlist_file):\n",
    "    with open(playlist_file, 'r') as file:\n",
    "        lines = file.readlines()\n",
    "    # Filter out comments and empty lines, clean, add ./Music\n",
    "    playlist = [os.path.join(\"./Music\", unquote(line.strip())) for line in lines if line.strip() and not line.startswith('#')]\n",
    "    return playlist\n",
    "\n",
    "# Convert time string to a datetime object with date of today\n",
    "def string_to_datetime(time_string):\n",
    "    format_str = \"%H:%M:%S\"\n",
    "    today_date = datetime.now().date()\n",
    "    datetime_str = f\"{today_date} {time_string}\"\n",
    "    return datetime.strptime(datetime_str, f\"%Y-%m-%d {format_str}\")\n",
    "\n",
    "# Get the rounded up playback length of a music file as timedelta (seconds)\n",
    "def get_music_length(file_path):\n",
    "    audio = AudioSegment.from_file(file_path)\n",
    "    length_in_seconds = len(audio) / 1000  # Convert milliseconds to seconds\n",
    "    rounded_length = ceil(length_in_seconds)\n",
    "    return timedelta(seconds=rounded_length)\n",
    "\n",
    "# Load a music file into RAM memory with pygame.mixer.Sound, available globally as \"music\", enabeling fast playback time compared to streaming from storage\n",
    "def load_music(music_file):\n",
    "    global music\n",
    "    music = pygame.mixer.Sound(music_file)\n",
    "    print(music_file)\n",
    "    print(\"loaded: \", datetime.now().time())\n",
    "    print(get_music_length(music_file))\n",
    "\n",
    "# Start playback of music from RAM memory\n",
    "def play_music():\n",
    "    music.play()\n",
    "    print(\"playing: \", datetime.now().time())\n",
    "\n",
    "if __name__ == \"__main__\":\n",
    "    # Location of playback file, can be changed to root folder\n",
    "    playlist_file = \"./Music/Playlist.m3u8\"\n",
    "    playlist = load_playlist(playlist_file)\n",
    "    \n",
    "    # Initializing audio output of pygame.mixer, detects mode automatically, using standard audio interface\n",
    "    pygame.mixer.init()\n",
    "    \n",
    "    # Create a scheduler\n",
    "    scheduler = BlockingScheduler()\n",
    "\n",
    "    start_time_str = \"18:54:59\"\n",
    "    load_time = string_to_datetime(start_time_str)\n",
    "    play_time = load_time + timedelta(seconds=1)\n",
    "    \n",
    "    # Schedule tasks\n",
    "    for music_file_path in playlist:\n",
    "        # Schedule the task at the specified datetime\n",
    "        scheduler.add_job(load_music, 'date', run_date=load_time, args=[music_file_path])\n",
    "        scheduler.add_job(play_music, 'date', run_date=play_time)\n",
    "        music_length = get_music_length(music_file_path)\n",
    "        load_time = play_time + music_length\n",
    "        play_time = load_time + timedelta(seconds=1)\n",
    "    \n",
    "    # Start the scheduler\n",
    "    scheduler.start()\n"
   ]
  }
 ],
 "metadata": {
  "kernelspec": {
   "display_name": "Python 3 (ipykernel)",
   "language": "python",
   "name": "python3"
  },
  "language_info": {
   "codemirror_mode": {
    "name": "ipython",
    "version": 3
   },
   "file_extension": ".py",
   "mimetype": "text/x-python",
   "name": "python",
   "nbconvert_exporter": "python",
   "pygments_lexer": "ipython3",
   "version": "3.11.5"
  }
 },
 "nbformat": 4,
 "nbformat_minor": 5
}
